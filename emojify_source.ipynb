{
 "cells": [
  {
   "cell_type": "code",
   "execution_count": 1,
   "metadata": {},
   "outputs": [],
   "source": [
    "import pandas as pd\n",
    "import numpy as np\n",
    "from config.emo_utils import *\n",
    "import config.config as cfg\n",
    "\n",
    "X_train, y_train = read_csv(cfg.train_path) \n",
    "X_test, y_test = read_csv(cfg.test_path)"
   ]
  },
  {
   "cell_type": "code",
   "execution_count": 2,
   "metadata": {},
   "outputs": [
    {
     "data": {
      "text/plain": [
       "array(['never talk to me again', 'I am proud of your achievements',\n",
       "       'It is the worst day in my life', 'Miss you so much',\n",
       "       'food is life'], dtype='<U52')"
      ]
     },
     "execution_count": 2,
     "metadata": {},
     "output_type": "execute_result"
    }
   ],
   "source": [
    "X_train[:5]"
   ]
  },
  {
   "cell_type": "code",
   "execution_count": 3,
   "metadata": {},
   "outputs": [
    {
     "name": "stdout",
     "output_type": "stream",
     "text": [
      "How dare you ask that 😞\n",
      "I am at the baseball game ⚾\n",
      "this guy was such a joke 😄\n",
      "he is so cute ❤️\n",
      "I cooked meat 🍴\n"
     ]
    }
   ],
   "source": [
    "for idx in np.random.choice(range(len(X_train)), 5):\n",
    "    print(X_train[idx], label_to_emoji(y_train[idx]))"
   ]
  },
  {
   "cell_type": "code",
   "execution_count": 4,
   "metadata": {},
   "outputs": [
    {
     "name": "stdout",
     "output_type": "stream",
     "text": [
      "The index of word:chair in the vocabulary is 96189\n",
      "The 55555th word in the vocabulary is animates\n"
     ]
    }
   ],
   "source": [
    "index_to_words, words_to_index, words_to_vec_map = read_glove_vecs(cfg.glove_path)\n",
    "\n",
    "word = \"chair\"\n",
    "idx = 55555\n",
    "print(f\"The index of word:{word} in the vocabulary is {words_to_index[word]}\")\n",
    "print(f\"The {idx}th word in the vocabulary is {index_to_words[idx]}\")"
   ]
  },
  {
   "cell_type": "code",
   "execution_count": 5,
   "metadata": {},
   "outputs": [
    {
     "name": "stdout",
     "output_type": "stream",
     "text": [
      "Original sentences:  ['The first base man got the ball' 'food is life'\n",
      " 'I will have a cheese cake'\n",
      " 'I am so impressed by your dedication to this project' 'this is bad']\n",
      "\n",
      "Converted to indices:  [[357266. 148908.  69709. 232536. 164934. 357266.  67287.      0.      0.\n",
      "       0.]\n",
      " [151204. 192973. 222138.      0.      0.      0.      0.      0.      0.\n",
      "       0.]\n",
      " [185457. 387696. 174642.  43010.  97865.  89496.      0.      0.      0.\n",
      "       0.]\n",
      " [185457.  52943. 336114. 188347.  88126. 394565. 119051. 360915. 358160.\n",
      "  293229.]\n",
      " [358160. 192973.  65963.      0.      0.      0.      0.      0.      0.\n",
      "       0.]]\n"
     ]
    }
   ],
   "source": [
    "sentence_example = np.array(np.random.choice(X_train, 5))\n",
    "print(\"Original sentences: \", sentence_example)\n",
    "\n",
    "# maximum number of words in a sentence. You can assume every sentence in X is no longer than this.\n",
    "max_len = len(max(X_train, key=len).split())\n",
    "\n",
    "sentence_example_indices = sentences_to_indices(sentence_example, words_to_index, max_len)\n",
    "print(\"\\nConverted to indices: \", sentence_example_indices)"
   ]
  },
  {
   "cell_type": "code",
   "execution_count": 6,
   "metadata": {},
   "outputs": [
    {
     "name": "stdout",
     "output_type": "stream",
     "text": [
      "Model: \"model\"\n",
      "_________________________________________________________________\n",
      "Layer (type)                 Output Shape              Param #   \n",
      "=================================================================\n",
      "input_1 (InputLayer)         [(None, 10)]              0         \n",
      "_________________________________________________________________\n",
      "embedding (Embedding)        (None, 10, 50)            20000050  \n",
      "_________________________________________________________________\n",
      "lstm (LSTM)                  (None, 10, 128)           91648     \n",
      "_________________________________________________________________\n",
      "dropout (Dropout)            (None, 10, 128)           0         \n",
      "_________________________________________________________________\n",
      "lstm_1 (LSTM)                (None, 128)               131584    \n",
      "_________________________________________________________________\n",
      "dropout_1 (Dropout)          (None, 128)               0         \n",
      "_________________________________________________________________\n",
      "dense (Dense)                (None, 5)                 645       \n",
      "=================================================================\n",
      "Total params: 20,223,927\n",
      "Trainable params: 223,877\n",
      "Non-trainable params: 20,000,050\n",
      "_________________________________________________________________\n"
     ]
    }
   ],
   "source": [
    "from model.emojify_model import Emojify\n",
    "\n",
    "# Build Emojify model calling build() method\n",
    "model = Emojify((max_len), words_to_vec_map, words_to_index).build()\n",
    "model.summary()"
   ]
  },
  {
   "cell_type": "code",
   "execution_count": 7,
   "metadata": {},
   "outputs": [],
   "source": [
    "model.compile(loss='categorical_crossentropy', optimizer='adam', metrics=['accuracy'])"
   ]
  },
  {
   "cell_type": "code",
   "execution_count": 8,
   "metadata": {},
   "outputs": [],
   "source": [
    "from sklearn.preprocessing import LabelBinarizer\n",
    "\n",
    "# Convert words to corresponding inidices from vocabulary\n",
    "X_train_indices = sentences_to_indices(X_train, words_to_index, max_len)\n",
    "X_test_indices = sentences_to_indices(X_test, words_to_index, max_len)\n",
    "\n",
    "le = LabelBinarizer()\n",
    "# Convert labels to one-hot vectors\n",
    "y_train_oh = le.fit_transform(y_train)\n",
    "y_test_oh = le.transform(y_test)"
   ]
  },
  {
   "cell_type": "code",
   "execution_count": 9,
   "metadata": {},
   "outputs": [
    {
     "name": "stdout",
     "output_type": "stream",
     "text": [
      "Train on 132 samples\n",
      "Epoch 1/100\n",
      "132/132 [==============================] - 5s 40ms/sample - loss: 1.5882 - accuracy: 0.2424\n",
      "Epoch 2/100\n",
      "132/132 [==============================] - 0s 2ms/sample - loss: 1.5181 - accuracy: 0.4167\n",
      "Epoch 3/100\n",
      "132/132 [==============================] - 0s 2ms/sample - loss: 1.4995 - accuracy: 0.3409\n",
      "Epoch 4/100\n",
      "132/132 [==============================] - 0s 3ms/sample - loss: 1.4692 - accuracy: 0.3333\n",
      "Epoch 5/100\n",
      "132/132 [==============================] - 0s 2ms/sample - loss: 1.4386 - accuracy: 0.4091\n",
      "Epoch 6/100\n",
      "132/132 [==============================] - 0s 3ms/sample - loss: 1.4301 - accuracy: 0.4924\n",
      "Epoch 7/100\n",
      "132/132 [==============================] - 0s 2ms/sample - loss: 1.3769 - accuracy: 0.5000\n",
      "Epoch 8/100\n",
      "132/132 [==============================] - 0s 2ms/sample - loss: 1.3388 - accuracy: 0.4848\n",
      "Epoch 9/100\n",
      "132/132 [==============================] - 0s 3ms/sample - loss: 1.2461 - accuracy: 0.5076\n",
      "Epoch 10/100\n",
      "132/132 [==============================] - 0s 2ms/sample - loss: 1.1611 - accuracy: 0.5227\n",
      "Epoch 11/100\n",
      "132/132 [==============================] - 0s 3ms/sample - loss: 1.0925 - accuracy: 0.6061\n",
      "Epoch 12/100\n",
      "132/132 [==============================] - 0s 2ms/sample - loss: 1.0169 - accuracy: 0.6061\n",
      "Epoch 13/100\n",
      "132/132 [==============================] - 0s 3ms/sample - loss: 0.9190 - accuracy: 0.6212\n",
      "Epoch 14/100\n",
      "132/132 [==============================] - 0s 3ms/sample - loss: 0.9457 - accuracy: 0.5909\n",
      "Epoch 15/100\n",
      "132/132 [==============================] - 0s 2ms/sample - loss: 0.9527 - accuracy: 0.5985\n",
      "Epoch 16/100\n",
      "132/132 [==============================] - 0s 2ms/sample - loss: 0.8223 - accuracy: 0.6742\n",
      "Epoch 17/100\n",
      "132/132 [==============================] - 0s 2ms/sample - loss: 0.8552 - accuracy: 0.7045\n",
      "Epoch 18/100\n",
      "132/132 [==============================] - 0s 2ms/sample - loss: 0.8929 - accuracy: 0.6894\n",
      "Epoch 19/100\n",
      "132/132 [==============================] - 0s 2ms/sample - loss: 0.7621 - accuracy: 0.7273\n",
      "Epoch 20/100\n",
      "132/132 [==============================] - 0s 2ms/sample - loss: 0.6986 - accuracy: 0.7424\n",
      "Epoch 21/100\n",
      "132/132 [==============================] - 0s 1ms/sample - loss: 0.7078 - accuracy: 0.6970\n",
      "Epoch 22/100\n",
      "132/132 [==============================] - 0s 3ms/sample - loss: 0.6114 - accuracy: 0.7955\n",
      "Epoch 23/100\n",
      "132/132 [==============================] - 0s 2ms/sample - loss: 0.6643 - accuracy: 0.7576\n",
      "Epoch 24/100\n",
      "132/132 [==============================] - 0s 2ms/sample - loss: 0.5662 - accuracy: 0.8030\n",
      "Epoch 25/100\n",
      "132/132 [==============================] - 0s 3ms/sample - loss: 0.5444 - accuracy: 0.8030\n",
      "Epoch 26/100\n",
      "132/132 [==============================] - 0s 3ms/sample - loss: 0.4449 - accuracy: 0.8409\n",
      "Epoch 27/100\n",
      "132/132 [==============================] - 0s 3ms/sample - loss: 0.4328 - accuracy: 0.8106\n",
      "Epoch 28/100\n",
      "132/132 [==============================] - 0s 2ms/sample - loss: 0.4085 - accuracy: 0.8712\n",
      "Epoch 29/100\n",
      "132/132 [==============================] - 0s 2ms/sample - loss: 0.4214 - accuracy: 0.8409\n",
      "Epoch 30/100\n",
      "132/132 [==============================] - 0s 2ms/sample - loss: 0.3860 - accuracy: 0.8333\n",
      "Epoch 31/100\n",
      "132/132 [==============================] - 0s 3ms/sample - loss: 0.3753 - accuracy: 0.8485\n",
      "Epoch 32/100\n",
      "132/132 [==============================] - 0s 2ms/sample - loss: 0.3663 - accuracy: 0.8712\n",
      "Epoch 33/100\n",
      "132/132 [==============================] - 0s 2ms/sample - loss: 0.2974 - accuracy: 0.8864\n",
      "Epoch 34/100\n",
      "132/132 [==============================] - 0s 2ms/sample - loss: 0.3044 - accuracy: 0.8788\n",
      "Epoch 35/100\n",
      "132/132 [==============================] - 0s 2ms/sample - loss: 0.2720 - accuracy: 0.9015\n",
      "Epoch 36/100\n",
      "132/132 [==============================] - 0s 3ms/sample - loss: 0.3564 - accuracy: 0.8788\n",
      "Epoch 37/100\n",
      "132/132 [==============================] - 0s 2ms/sample - loss: 0.2953 - accuracy: 0.9015\n",
      "Epoch 38/100\n",
      "132/132 [==============================] - 0s 2ms/sample - loss: 0.2996 - accuracy: 0.8712\n",
      "Epoch 39/100\n",
      "132/132 [==============================] - 0s 1ms/sample - loss: 0.5329 - accuracy: 0.8485\n",
      "Epoch 40/100\n",
      "128/132 [============================>.] - ETA: 0s - loss: 0.4233 - accuracy: 0.8672\n",
      "Restoring model weights from the end of the best epoch.\n",
      "132/132 [==============================] - 0s 3ms/sample - loss: 0.4119 - accuracy: 0.8712\n",
      "Epoch 00040: early stopping\n"
     ]
    }
   ],
   "source": [
    "from tensorflow.keras import callbacks\n",
    "\n",
    "early_stop = callbacks.EarlyStopping(monitor=\"loss\", mode=\"min\", patience=5, \n",
    "                                              verbose=1, restore_best_weights=True)\n",
    "\n",
    "history = model.fit(X_train_indices, y_train_oh, epochs=100, batch_size=64, shuffle=True, callbacks=[early_stop])"
   ]
  },
  {
   "cell_type": "code",
   "execution_count": 10,
   "metadata": {},
   "outputs": [
    {
     "name": "stdout",
     "output_type": "stream",
     "text": [
      "\r",
      "56/1 [================================================================================================================================================================================================================================================================================================================================================================================================================================================================================================================================================================================================================================================================================================================================================================================================================================================================================================================================================================================================================================================================================================================================================================================================================================================================================================================================================================================================================================================================================================================================================================================================================================================================================================================================================] - 1s 21ms/sample - loss: 0.5350 - accuracy: 0.8214\n"
     ]
    }
   ],
   "source": [
    "score = model.evaluate(X_test_indices, y_test_oh)"
   ]
  },
  {
   "cell_type": "code",
   "execution_count": 11,
   "metadata": {},
   "outputs": [
    {
     "name": "stdout",
     "output_type": "stream",
     "text": [
      "Loss = 0.58\n",
      "Accuracy = 82.14%\n"
     ]
    }
   ],
   "source": [
    "loss, acc = score\n",
    "print(\"Loss = {:.2f}\".format(loss))\n",
    "print(\"Accuracy = {:.2f}%\".format(acc * 100))"
   ]
  },
  {
   "cell_type": "code",
   "execution_count": 12,
   "metadata": {},
   "outputs": [
    {
     "name": "stdout",
     "output_type": "stream",
     "text": [
      "Expected emoji:😄 prediction: he got a very nice raise\t😞\n",
      "Expected emoji:😄 prediction: she got me a nice present\t❤️\n",
      "Expected emoji:😞 prediction: work is hard\t😄\n",
      "Expected emoji:😞 prediction: This girl is messing with me\t❤️\n",
      "Expected emoji:🍴 prediction: any suggestions for dinner\t😄\n",
      "Expected emoji:😄 prediction: you brighten my day\t❤️\n",
      "Expected emoji:😄 prediction: will you be my valentine\t😞\n",
      "Expected emoji:😄 prediction: What you did was awesome\t😞\n",
      "Expected emoji:😞 prediction: yesterday we lost again\t⚾\n",
      "Expected emoji:🍴 prediction: I did not have breakfast ❤️\n"
     ]
    }
   ],
   "source": [
    "# print mislabeled predictions\n",
    "pred = model.predict(X_test_indices)\n",
    "for i in range(len(X_test)):\n",
    "    num = np.argmax(pred[i])\n",
    "    if(num != y_test[i]):\n",
    "        print('Expected emoji:'+ label_to_emoji(y_test[i]) + ' prediction: '+ X_test[i] + label_to_emoji(num).strip())"
   ]
  },
  {
   "cell_type": "code",
   "execution_count": 13,
   "metadata": {},
   "outputs": [
    {
     "name": "stdout",
     "output_type": "stream",
     "text": [
      "Well played ⚾\n",
      "I would like to go to get some lunch 🍴\n",
      "He got depression 😞\n",
      "What do you like the most football or basketball ⚾\n"
     ]
    }
   ],
   "source": [
    "examples_for_prediction = np.array(['Well played', 'I would like to go to get some lunch', 'He got depression', 'What do you like the most football or basketball'])\n",
    "examples_for_prediction_ixs = sentences_to_indices(examples_for_prediction, words_to_index, max_len)\n",
    "\n",
    "predicted_examples = model.predict(examples_for_prediction_ixs)\n",
    "\n",
    "for i in range(len(examples_for_prediction)):\n",
    "    predicted_label = np.argmax(predicted_examples[i])\n",
    "    print(f\"{examples_for_prediction[i]} {label_to_emoji(predicted_label).strip()}\")"
   ]
  },
  {
   "cell_type": "code",
   "execution_count": 14,
   "metadata": {},
   "outputs": [
    {
     "data": {
      "text/plain": [
       "array([[ 7,  0,  0,  0,  0],\n",
       "       [ 0,  8,  0,  0,  0],\n",
       "       [ 2,  0, 13,  3,  0],\n",
       "       [ 1,  1,  1, 13,  0],\n",
       "       [ 1,  0,  1,  0,  5]], dtype=int64)"
      ]
     },
     "execution_count": 14,
     "metadata": {},
     "output_type": "execute_result"
    }
   ],
   "source": [
    "from sklearn.metrics import confusion_matrix\n",
    "import matplotlib.pyplot as plt\n",
    "\n",
    "\n",
    "class_names = [0, 1, 2, 3, 4]\n",
    "cf_matrix = confusion_matrix(np.argmax(y_test_oh, axis=1), np.argmax(pred, axis=1))\n",
    "cf_matrix"
   ]
  },
  {
   "cell_type": "code",
   "execution_count": 15,
   "metadata": {},
   "outputs": [
    {
     "data": {
      "text/plain": [
       "<matplotlib.axes._subplots.AxesSubplot at 0x14db39a3b88>"
      ]
     },
     "execution_count": 15,
     "metadata": {},
     "output_type": "execute_result"
    },
    {
     "data": {
      "image/png": "[encoded data removed]",
      "text/plain": [
       "<Figure size 720x576 with 2 Axes>"
      ]
     },
     "metadata": {
      "needs_background": "light"
     },
     "output_type": "display_data"
    }
   ],
   "source": [
    "import seaborn as sn\n",
    "\n",
    "emojis = [\":heart\", \":baseball:\", \":smile:\", \":disappointed:\", \":fork_and_knife:\"]\n",
    "\n",
    "df_cm = pd.DataFrame(cf_matrix, index=emojis,\n",
    "                  columns=emojis)\n",
    "df_cm.index.name = 'Actual'\n",
    "df_cm.columns.name = 'Predicted'\n",
    "plt.figure(figsize = (10,8))\n",
    "sn.set(font_scale=1.4)#for label size\n",
    "sn.heatmap(df_cm, cmap=\"Blues\", annot=True, annot_kws={\"size\": 16}) # font size"
   ]
  },
  {
   "cell_type": "code",
   "execution_count": 16,
   "metadata": {},
   "outputs": [
    {
     "data": {
      "text/html": [
       "<div>\n",
       "<style scoped>\n",
       "    .dataframe tbody tr th:only-of-type {\n",
       "        vertical-align: middle;\n",
       "    }\n",
       "\n",
       "    .dataframe tbody tr th {\n",
       "        vertical-align: top;\n",
       "    }\n",
       "\n",
       "    .dataframe thead th {\n",
       "        text-align: right;\n",
       "    }\n",
       "</style>\n",
       "<table border=\"1\" class=\"dataframe\">\n",
       "  <thead>\n",
       "    <tr style=\"text-align: right;\">\n",
       "      <th></th>\n",
       "      <th>loss</th>\n",
       "      <th>accuracy</th>\n",
       "    </tr>\n",
       "  </thead>\n",
       "  <tbody>\n",
       "    <tr>\n",
       "      <td>0</td>\n",
       "      <td>1.588171</td>\n",
       "      <td>0.242424</td>\n",
       "    </tr>\n",
       "    <tr>\n",
       "      <td>1</td>\n",
       "      <td>1.518078</td>\n",
       "      <td>0.416667</td>\n",
       "    </tr>\n",
       "    <tr>\n",
       "      <td>2</td>\n",
       "      <td>1.499488</td>\n",
       "      <td>0.340909</td>\n",
       "    </tr>\n",
       "    <tr>\n",
       "      <td>3</td>\n",
       "      <td>1.469224</td>\n",
       "      <td>0.333333</td>\n",
       "    </tr>\n",
       "    <tr>\n",
       "      <td>4</td>\n",
       "      <td>1.438582</td>\n",
       "      <td>0.409091</td>\n",
       "    </tr>\n",
       "    <tr>\n",
       "      <td>5</td>\n",
       "      <td>1.430103</td>\n",
       "      <td>0.492424</td>\n",
       "    </tr>\n",
       "    <tr>\n",
       "      <td>6</td>\n",
       "      <td>1.376921</td>\n",
       "      <td>0.500000</td>\n",
       "    </tr>\n",
       "    <tr>\n",
       "      <td>7</td>\n",
       "      <td>1.338782</td>\n",
       "      <td>0.484848</td>\n",
       "    </tr>\n",
       "    <tr>\n",
       "      <td>8</td>\n",
       "      <td>1.246129</td>\n",
       "      <td>0.507576</td>\n",
       "    </tr>\n",
       "    <tr>\n",
       "      <td>9</td>\n",
       "      <td>1.161112</td>\n",
       "      <td>0.522727</td>\n",
       "    </tr>\n",
       "    <tr>\n",
       "      <td>10</td>\n",
       "      <td>1.092522</td>\n",
       "      <td>0.606061</td>\n",
       "    </tr>\n",
       "    <tr>\n",
       "      <td>11</td>\n",
       "      <td>1.016909</td>\n",
       "      <td>0.606061</td>\n",
       "    </tr>\n",
       "    <tr>\n",
       "      <td>12</td>\n",
       "      <td>0.919033</td>\n",
       "      <td>0.621212</td>\n",
       "    </tr>\n",
       "    <tr>\n",
       "      <td>13</td>\n",
       "      <td>0.945734</td>\n",
       "      <td>0.590909</td>\n",
       "    </tr>\n",
       "    <tr>\n",
       "      <td>14</td>\n",
       "      <td>0.952693</td>\n",
       "      <td>0.598485</td>\n",
       "    </tr>\n",
       "    <tr>\n",
       "      <td>15</td>\n",
       "      <td>0.822275</td>\n",
       "      <td>0.674242</td>\n",
       "    </tr>\n",
       "    <tr>\n",
       "      <td>16</td>\n",
       "      <td>0.855156</td>\n",
       "      <td>0.704545</td>\n",
       "    </tr>\n",
       "    <tr>\n",
       "      <td>17</td>\n",
       "      <td>0.892904</td>\n",
       "      <td>0.689394</td>\n",
       "    </tr>\n",
       "    <tr>\n",
       "      <td>18</td>\n",
       "      <td>0.762096</td>\n",
       "      <td>0.727273</td>\n",
       "    </tr>\n",
       "    <tr>\n",
       "      <td>19</td>\n",
       "      <td>0.698648</td>\n",
       "      <td>0.742424</td>\n",
       "    </tr>\n",
       "    <tr>\n",
       "      <td>20</td>\n",
       "      <td>0.707773</td>\n",
       "      <td>0.696970</td>\n",
       "    </tr>\n",
       "    <tr>\n",
       "      <td>21</td>\n",
       "      <td>0.611375</td>\n",
       "      <td>0.795455</td>\n",
       "    </tr>\n",
       "    <tr>\n",
       "      <td>22</td>\n",
       "      <td>0.664258</td>\n",
       "      <td>0.757576</td>\n",
       "    </tr>\n",
       "    <tr>\n",
       "      <td>23</td>\n",
       "      <td>0.566239</td>\n",
       "      <td>0.803030</td>\n",
       "    </tr>\n",
       "    <tr>\n",
       "      <td>24</td>\n",
       "      <td>0.544367</td>\n",
       "      <td>0.803030</td>\n",
       "    </tr>\n",
       "    <tr>\n",
       "      <td>25</td>\n",
       "      <td>0.444902</td>\n",
       "      <td>0.840909</td>\n",
       "    </tr>\n",
       "    <tr>\n",
       "      <td>26</td>\n",
       "      <td>0.432760</td>\n",
       "      <td>0.810606</td>\n",
       "    </tr>\n",
       "    <tr>\n",
       "      <td>27</td>\n",
       "      <td>0.408492</td>\n",
       "      <td>0.871212</td>\n",
       "    </tr>\n",
       "    <tr>\n",
       "      <td>28</td>\n",
       "      <td>0.421445</td>\n",
       "      <td>0.840909</td>\n",
       "    </tr>\n",
       "    <tr>\n",
       "      <td>29</td>\n",
       "      <td>0.386044</td>\n",
       "      <td>0.833333</td>\n",
       "    </tr>\n",
       "    <tr>\n",
       "      <td>30</td>\n",
       "      <td>0.375286</td>\n",
       "      <td>0.848485</td>\n",
       "    </tr>\n",
       "    <tr>\n",
       "      <td>31</td>\n",
       "      <td>0.366338</td>\n",
       "      <td>0.871212</td>\n",
       "    </tr>\n",
       "    <tr>\n",
       "      <td>32</td>\n",
       "      <td>0.297425</td>\n",
       "      <td>0.886364</td>\n",
       "    </tr>\n",
       "    <tr>\n",
       "      <td>33</td>\n",
       "      <td>0.304377</td>\n",
       "      <td>0.878788</td>\n",
       "    </tr>\n",
       "    <tr>\n",
       "      <td>34</td>\n",
       "      <td>0.272025</td>\n",
       "      <td>0.901515</td>\n",
       "    </tr>\n",
       "    <tr>\n",
       "      <td>35</td>\n",
       "      <td>0.356392</td>\n",
       "      <td>0.878788</td>\n",
       "    </tr>\n",
       "    <tr>\n",
       "      <td>36</td>\n",
       "      <td>0.295321</td>\n",
       "      <td>0.901515</td>\n",
       "    </tr>\n",
       "    <tr>\n",
       "      <td>37</td>\n",
       "      <td>0.299620</td>\n",
       "      <td>0.871212</td>\n",
       "    </tr>\n",
       "    <tr>\n",
       "      <td>38</td>\n",
       "      <td>0.532923</td>\n",
       "      <td>0.848485</td>\n",
       "    </tr>\n",
       "    <tr>\n",
       "      <td>39</td>\n",
       "      <td>0.411946</td>\n",
       "      <td>0.871212</td>\n",
       "    </tr>\n",
       "  </tbody>\n",
       "</table>\n",
       "</div>"
      ],
      "text/plain": [
       "        loss  accuracy\n",
       "0   1.588171  0.242424\n",
       "1   1.518078  0.416667\n",
       "2   1.499488  0.340909\n",
       "3   1.469224  0.333333\n",
       "4   1.438582  0.409091\n",
       "5   1.430103  0.492424\n",
       "6   1.376921  0.500000\n",
       "7   1.338782  0.484848\n",
       "8   1.246129  0.507576\n",
       "9   1.161112  0.522727\n",
       "10  1.092522  0.606061\n",
       "11  1.016909  0.606061\n",
       "12  0.919033  0.621212\n",
       "13  0.945734  0.590909\n",
       "14  0.952693  0.598485\n",
       "15  0.822275  0.674242\n",
       "16  0.855156  0.704545\n",
       "17  0.892904  0.689394\n",
       "18  0.762096  0.727273\n",
       "19  0.698648  0.742424\n",
       "20  0.707773  0.696970\n",
       "21  0.611375  0.795455\n",
       "22  0.664258  0.757576\n",
       "23  0.566239  0.803030\n",
       "24  0.544367  0.803030\n",
       "25  0.444902  0.840909\n",
       "26  0.432760  0.810606\n",
       "27  0.408492  0.871212\n",
       "28  0.421445  0.840909\n",
       "29  0.386044  0.833333\n",
       "30  0.375286  0.848485\n",
       "31  0.366338  0.871212\n",
       "32  0.297425  0.886364\n",
       "33  0.304377  0.878788\n",
       "34  0.272025  0.901515\n",
       "35  0.356392  0.878788\n",
       "36  0.295321  0.901515\n",
       "37  0.299620  0.871212\n",
       "38  0.532923  0.848485\n",
       "39  0.411946  0.871212"
      ]
     },
     "execution_count": 16,
     "metadata": {},
     "output_type": "execute_result"
    }
   ],
   "source": [
    "hist = pd.DataFrame(history.history)\n",
    "hist"
   ]
  },
  {
   "cell_type": "code",
   "execution_count": 17,
   "metadata": {},
   "outputs": [
    {
     "data": {
      "image/png": "[encoded data removed]",
      "text/plain": [
       "<Figure size 720x576 with 1 Axes>"
      ]
     },
     "metadata": {},
     "output_type": "display_data"
    }
   ],
   "source": [
    "hist['epoch'] = history.epoch\n",
    "\n",
    "plt.style.use(\"ggplot\")\n",
    "plt.figure(figsize=(10, 8))\n",
    "plt.xlabel('Epoch')\n",
    "plt.ylabel('Accuracy')\n",
    "plt.plot(hist['epoch'], hist['accuracy'], label='Train Accuracy')\n",
    "plt.plot(hist['epoch'], hist['loss'], label='Train Loss')\n",
    "plt.ylim([0,1])\n",
    "plt.legend()\n",
    "plt.savefig(cfg.plot_path)"
   ]
  },
  {
   "cell_type": "code",
   "execution_count": 19,
   "metadata": {},
   "outputs": [],
   "source": [
    "model.save(cfg.model_path)"
   ]
  },
  {
   "cell_type": "code",
   "execution_count": null,
   "metadata": {},
   "outputs": [],
   "source": []
  }
 ],
 "metadata": {
  "kernelspec": {
   "display_name": "Python 3",
   "language": "python",
   "name": "python3"
  },
  "language_info": {
   "codemirror_mode": {
    "name": "ipython",
    "version": 3
   },
   "file_extension": ".py",
   "mimetype": "text/x-python",
   "name": "python",
   "nbconvert_exporter": "python",
   "pygments_lexer": "ipython3",
   "version": "3.7.4"
  }
 },
 "nbformat": 4,
 "nbformat_minor": 2
}
